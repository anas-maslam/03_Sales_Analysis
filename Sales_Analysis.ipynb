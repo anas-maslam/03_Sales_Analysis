{
 "cells": [
  {
   "cell_type": "markdown",
   "id": "17434532-ab80-4c1a-96c2-d47a8d235ab2",
   "metadata": {},
   "source": [
    "# Sales Analysis Project\n"
   ]
  },
  {
   "cell_type": "markdown",
   "id": "6d89d662-5e79-450a-a9a1-5ae786a74915",
   "metadata": {},
   "source": [
    "#### As a data scientist, you must perform the following steps on the enclosed data:\n",
    "#### 1. Data wrangling\n",
    "#### 2. Data analysis\n",
    "#### 3. Data visualization\n",
    "#### 4. Report generation"
   ]
  },
  {
   "cell_type": "code",
   "execution_count": 162,
   "id": "f969568d-9906-4ea8-96dd-12a92ed0cd5a",
   "metadata": {},
   "outputs": [],
   "source": [
    "# Header File import\n",
    "\n",
    "import pandas as pd\n",
    "import seaborn as sns\n",
    "import matplotlib.pyplot as plt"
   ]
  },
  {
   "cell_type": "code",
   "execution_count": 163,
   "id": "51e4189f-a503-46bc-bb88-786318c247a1",
   "metadata": {},
   "outputs": [],
   "source": [
    "# Read the data file in python Dataframe\n",
    "df = pd.read_csv('AusApparalSales4thQrt2020.csv') "
   ]
  },
  {
   "cell_type": "code",
   "execution_count": 164,
   "id": "b6a7e712-7466-431e-a6a8-67576887aafa",
   "metadata": {},
   "outputs": [
    {
     "data": {
      "text/html": [
       "<div>\n",
       "<style scoped>\n",
       "    .dataframe tbody tr th:only-of-type {\n",
       "        vertical-align: middle;\n",
       "    }\n",
       "\n",
       "    .dataframe tbody tr th {\n",
       "        vertical-align: top;\n",
       "    }\n",
       "\n",
       "    .dataframe thead th {\n",
       "        text-align: right;\n",
       "    }\n",
       "</style>\n",
       "<table border=\"1\" class=\"dataframe\">\n",
       "  <thead>\n",
       "    <tr style=\"text-align: right;\">\n",
       "      <th></th>\n",
       "      <th>Date</th>\n",
       "      <th>Time</th>\n",
       "      <th>State</th>\n",
       "      <th>Group</th>\n",
       "      <th>Unit</th>\n",
       "      <th>Sales</th>\n",
       "    </tr>\n",
       "  </thead>\n",
       "  <tbody>\n",
       "    <tr>\n",
       "      <th>0</th>\n",
       "      <td>1-Oct-2020</td>\n",
       "      <td>Morning</td>\n",
       "      <td>WA</td>\n",
       "      <td>Kids</td>\n",
       "      <td>8</td>\n",
       "      <td>20000</td>\n",
       "    </tr>\n",
       "    <tr>\n",
       "      <th>1</th>\n",
       "      <td>1-Oct-2020</td>\n",
       "      <td>Morning</td>\n",
       "      <td>WA</td>\n",
       "      <td>Men</td>\n",
       "      <td>8</td>\n",
       "      <td>20000</td>\n",
       "    </tr>\n",
       "    <tr>\n",
       "      <th>2</th>\n",
       "      <td>1-Oct-2020</td>\n",
       "      <td>Morning</td>\n",
       "      <td>WA</td>\n",
       "      <td>Women</td>\n",
       "      <td>4</td>\n",
       "      <td>10000</td>\n",
       "    </tr>\n",
       "    <tr>\n",
       "      <th>3</th>\n",
       "      <td>1-Oct-2020</td>\n",
       "      <td>Morning</td>\n",
       "      <td>WA</td>\n",
       "      <td>Seniors</td>\n",
       "      <td>15</td>\n",
       "      <td>37500</td>\n",
       "    </tr>\n",
       "    <tr>\n",
       "      <th>4</th>\n",
       "      <td>1-Oct-2020</td>\n",
       "      <td>Afternoon</td>\n",
       "      <td>WA</td>\n",
       "      <td>Kids</td>\n",
       "      <td>3</td>\n",
       "      <td>7500</td>\n",
       "    </tr>\n",
       "    <tr>\n",
       "      <th>...</th>\n",
       "      <td>...</td>\n",
       "      <td>...</td>\n",
       "      <td>...</td>\n",
       "      <td>...</td>\n",
       "      <td>...</td>\n",
       "      <td>...</td>\n",
       "    </tr>\n",
       "    <tr>\n",
       "      <th>7555</th>\n",
       "      <td>30-Dec-2020</td>\n",
       "      <td>Afternoon</td>\n",
       "      <td>TAS</td>\n",
       "      <td>Seniors</td>\n",
       "      <td>14</td>\n",
       "      <td>35000</td>\n",
       "    </tr>\n",
       "    <tr>\n",
       "      <th>7556</th>\n",
       "      <td>30-Dec-2020</td>\n",
       "      <td>Evening</td>\n",
       "      <td>TAS</td>\n",
       "      <td>Kids</td>\n",
       "      <td>15</td>\n",
       "      <td>37500</td>\n",
       "    </tr>\n",
       "    <tr>\n",
       "      <th>7557</th>\n",
       "      <td>30-Dec-2020</td>\n",
       "      <td>Evening</td>\n",
       "      <td>TAS</td>\n",
       "      <td>Men</td>\n",
       "      <td>15</td>\n",
       "      <td>37500</td>\n",
       "    </tr>\n",
       "    <tr>\n",
       "      <th>7558</th>\n",
       "      <td>30-Dec-2020</td>\n",
       "      <td>Evening</td>\n",
       "      <td>TAS</td>\n",
       "      <td>Women</td>\n",
       "      <td>11</td>\n",
       "      <td>27500</td>\n",
       "    </tr>\n",
       "    <tr>\n",
       "      <th>7559</th>\n",
       "      <td>30-Dec-2020</td>\n",
       "      <td>Evening</td>\n",
       "      <td>TAS</td>\n",
       "      <td>Seniors</td>\n",
       "      <td>13</td>\n",
       "      <td>32500</td>\n",
       "    </tr>\n",
       "  </tbody>\n",
       "</table>\n",
       "<p>7560 rows × 6 columns</p>\n",
       "</div>"
      ],
      "text/plain": [
       "             Date        Time State     Group  Unit  Sales\n",
       "0      1-Oct-2020     Morning    WA      Kids     8  20000\n",
       "1      1-Oct-2020     Morning    WA       Men     8  20000\n",
       "2      1-Oct-2020     Morning    WA     Women     4  10000\n",
       "3      1-Oct-2020     Morning    WA   Seniors    15  37500\n",
       "4      1-Oct-2020   Afternoon    WA      Kids     3   7500\n",
       "...           ...         ...   ...       ...   ...    ...\n",
       "7555  30-Dec-2020   Afternoon   TAS   Seniors    14  35000\n",
       "7556  30-Dec-2020     Evening   TAS      Kids    15  37500\n",
       "7557  30-Dec-2020     Evening   TAS       Men    15  37500\n",
       "7558  30-Dec-2020     Evening   TAS     Women    11  27500\n",
       "7559  30-Dec-2020     Evening   TAS   Seniors    13  32500\n",
       "\n",
       "[7560 rows x 6 columns]"
      ]
     },
     "execution_count": 164,
     "metadata": {},
     "output_type": "execute_result"
    }
   ],
   "source": [
    "# Display Dataframe to perform further operations\n",
    "df"
   ]
  },
  {
   "cell_type": "markdown",
   "id": "dc1a4848-8d77-4773-8815-7427ffa4eb50",
   "metadata": {},
   "source": [
    "#### Question 1.a. Data wrangling\n",
    "#### a. Ensure that the data is clean and free from any missing or incorrect entries.\n",
    "####     ○ Inspect the data manually to identify missing or incorrect information using the functions isna() and notna()."
   ]
  },
  {
   "cell_type": "code",
   "execution_count": 165,
   "id": "8d049bab-9177-48b7-8ba3-c81313d31908",
   "metadata": {},
   "outputs": [
    {
     "data": {
      "text/plain": [
       "Date     0\n",
       "Time     0\n",
       "State    0\n",
       "Group    0\n",
       "Unit     0\n",
       "Sales    0\n",
       "dtype: int64"
      ]
     },
     "execution_count": 165,
     "metadata": {},
     "output_type": "execute_result"
    }
   ],
   "source": [
    "df.isna().sum()"
   ]
  },
  {
   "cell_type": "code",
   "execution_count": 166,
   "id": "58d921e3-28f1-47ac-ba24-368b1a9a49ad",
   "metadata": {},
   "outputs": [
    {
     "data": {
      "text/plain": [
       "Date     7560\n",
       "Time     7560\n",
       "State    7560\n",
       "Group    7560\n",
       "Unit     7560\n",
       "Sales    7560\n",
       "dtype: int64"
      ]
     },
     "execution_count": 166,
     "metadata": {},
     "output_type": "execute_result"
    }
   ],
   "source": [
    "df.notna().sum()"
   ]
  },
  {
   "cell_type": "code",
   "execution_count": 167,
   "id": "1627229d-9bb8-413a-b1a5-c58ad1fc2640",
   "metadata": {},
   "outputs": [
    {
     "name": "stdout",
     "output_type": "stream",
     "text": [
      "<class 'pandas.core.frame.DataFrame'>\n",
      "RangeIndex: 7560 entries, 0 to 7559\n",
      "Data columns (total 6 columns):\n",
      " #   Column  Non-Null Count  Dtype \n",
      "---  ------  --------------  ----- \n",
      " 0   Date    7560 non-null   object\n",
      " 1   Time    7560 non-null   object\n",
      " 2   State   7560 non-null   object\n",
      " 3   Group   7560 non-null   object\n",
      " 4   Unit    7560 non-null   int64 \n",
      " 5   Sales   7560 non-null   int64 \n",
      "dtypes: int64(2), object(4)\n",
      "memory usage: 354.5+ KB\n"
     ]
    }
   ],
   "source": [
    "df.info()"
   ]
  },
  {
   "cell_type": "markdown",
   "id": "0f6d0805-c23e-4025-8a21-6a5f85a5d6ad",
   "metadata": {},
   "source": [
    "#### Question 1.b. Based on your knowledge of data analytics, include your recommendations for treating missing and incorrect data (dropping the null values or filling them).\n",
    "#### Ensuring that data does not contain missing or incorrect information using the functions isna() and notna()"
   ]
  },
  {
   "cell_type": "code",
   "execution_count": 168,
   "id": "d81ac3f6-de96-4533-90c0-f237d4ee509e",
   "metadata": {},
   "outputs": [
    {
     "data": {
      "text/plain": [
       "array(['1-Oct-2020', '2-Oct-2020', '3-Oct-2020', '4-Oct-2020',\n",
       "       '5-Oct-2020', '6-Oct-2020', '7-Oct-2020', '8-Oct-2020',\n",
       "       '9-Oct-2020', '10-Oct-2020', '11-Oct-2020', '12-Oct-2020',\n",
       "       '13-Oct-2020', '14-Oct-2020', '15-Oct-2020', '16-Oct-2020',\n",
       "       '17-Oct-2020', '18-Oct-2020', '19-Oct-2020', '20-Oct-2020',\n",
       "       '21-Oct-2020', '22-Oct-2020', '23-Oct-2020', '24-Oct-2020',\n",
       "       '25-Oct-2020', '26-Oct-2020', '27-Oct-2020', '28-Oct-2020',\n",
       "       '29-Oct-2020', '30-Oct-2020', '1-Nov-2020', '2-Nov-2020',\n",
       "       '3-Nov-2020', '4-Nov-2020', '5-Nov-2020', '6-Nov-2020',\n",
       "       '7-Nov-2020', '8-Nov-2020', '9-Nov-2020', '10-Nov-2020',\n",
       "       '11-Nov-2020', '12-Nov-2020', '13-Nov-2020', '14-Nov-2020',\n",
       "       '15-Nov-2020', '16-Nov-2020', '17-Nov-2020', '18-Nov-2020',\n",
       "       '19-Nov-2020', '20-Nov-2020', '21-Nov-2020', '22-Nov-2020',\n",
       "       '23-Nov-2020', '24-Nov-2020', '25-Nov-2020', '26-Nov-2020',\n",
       "       '27-Nov-2020', '28-Nov-2020', '29-Nov-2020', '30-Nov-2020',\n",
       "       '1-Dec-2020', '2-Dec-2020', '3-Dec-2020', '4-Dec-2020',\n",
       "       '5-Dec-2020', '6-Dec-2020', '7-Dec-2020', '8-Dec-2020',\n",
       "       '9-Dec-2020', '10-Dec-2020', '11-Dec-2020', '12-Dec-2020',\n",
       "       '13-Dec-2020', '14-Dec-2020', '15-Dec-2020', '16-Dec-2020',\n",
       "       '17-Dec-2020', '18-Dec-2020', '19-Dec-2020', '20-Dec-2020',\n",
       "       '21-Dec-2020', '22-Dec-2020', '23-Dec-2020', '24-Dec-2020',\n",
       "       '25-Dec-2020', '26-Dec-2020', '27-Dec-2020', '28-Dec-2020',\n",
       "       '29-Dec-2020', '30-Dec-2020'], dtype=object)"
      ]
     },
     "execution_count": 168,
     "metadata": {},
     "output_type": "execute_result"
    }
   ],
   "source": [
    "df['Date'].unique()"
   ]
  },
  {
   "cell_type": "markdown",
   "id": "9063c38c-e2ed-41b4-b2ed-9fcead975b9f",
   "metadata": {},
   "source": [
    "#### Here we can see that 2 dates are missing:\n",
    "#### 31-Oct-2020 & 31-Dec-2020\n",
    "#### Ideally we should ask this missing data from customer for accurate reports"
   ]
  },
  {
   "cell_type": "code",
   "execution_count": null,
   "id": "949cd758-8779-41b6-837b-195e8c4a7871",
   "metadata": {},
   "outputs": [],
   "source": []
  },
  {
   "cell_type": "code",
   "execution_count": null,
   "id": "a86ccc97-37ec-41ee-aea0-e5d9cf4a03b1",
   "metadata": {},
   "outputs": [],
   "source": []
  },
  {
   "cell_type": "markdown",
   "id": "269ea195-bad3-4ae9-adff-5c5daf63ba64",
   "metadata": {},
   "source": [
    "#### Question 1.c. Choose a suitable data wrangling technique—either data standardization or normalization. Execute the preferred normalization method and present the resulting data. (Normalization is the preferred approach for this problem.)"
   ]
  },
  {
   "cell_type": "code",
   "execution_count": 169,
   "id": "79d7afeb-d2b6-4c8b-8f3e-76456db9cc73",
   "metadata": {},
   "outputs": [],
   "source": [
    "# copy the data \n",
    "df_min_max_scaled = df.copy() \n",
    "\n",
    "# Get numeric column names\n",
    "numeric_columns = df.select_dtypes(include=[\"number\"]).columns.tolist()"
   ]
  },
  {
   "cell_type": "code",
   "execution_count": 170,
   "id": "ea6ed677-8e04-4d5e-be45-21e65f0b4865",
   "metadata": {},
   "outputs": [],
   "source": [
    "for column in numeric_columns:\n",
    "    min_val = df[column].min()\n",
    "    max_val = df[column].max()\n",
    "    df[column + '_norm'] = (df[column] - min_val) / (max_val - min_val)"
   ]
  },
  {
   "cell_type": "code",
   "execution_count": 171,
   "id": "33fa43cb-abca-4050-bd69-6a4b53c9c770",
   "metadata": {},
   "outputs": [
    {
     "data": {
      "text/html": [
       "<div>\n",
       "<style scoped>\n",
       "    .dataframe tbody tr th:only-of-type {\n",
       "        vertical-align: middle;\n",
       "    }\n",
       "\n",
       "    .dataframe tbody tr th {\n",
       "        vertical-align: top;\n",
       "    }\n",
       "\n",
       "    .dataframe thead th {\n",
       "        text-align: right;\n",
       "    }\n",
       "</style>\n",
       "<table border=\"1\" class=\"dataframe\">\n",
       "  <thead>\n",
       "    <tr style=\"text-align: right;\">\n",
       "      <th></th>\n",
       "      <th>Date</th>\n",
       "      <th>Time</th>\n",
       "      <th>State</th>\n",
       "      <th>Group</th>\n",
       "      <th>Unit</th>\n",
       "      <th>Sales</th>\n",
       "      <th>Unit_norm</th>\n",
       "      <th>Sales_norm</th>\n",
       "    </tr>\n",
       "  </thead>\n",
       "  <tbody>\n",
       "    <tr>\n",
       "      <th>0</th>\n",
       "      <td>1-Oct-2020</td>\n",
       "      <td>Morning</td>\n",
       "      <td>WA</td>\n",
       "      <td>Kids</td>\n",
       "      <td>8</td>\n",
       "      <td>20000</td>\n",
       "      <td>0.095238</td>\n",
       "      <td>0.095238</td>\n",
       "    </tr>\n",
       "    <tr>\n",
       "      <th>1</th>\n",
       "      <td>1-Oct-2020</td>\n",
       "      <td>Morning</td>\n",
       "      <td>WA</td>\n",
       "      <td>Men</td>\n",
       "      <td>8</td>\n",
       "      <td>20000</td>\n",
       "      <td>0.095238</td>\n",
       "      <td>0.095238</td>\n",
       "    </tr>\n",
       "    <tr>\n",
       "      <th>2</th>\n",
       "      <td>1-Oct-2020</td>\n",
       "      <td>Morning</td>\n",
       "      <td>WA</td>\n",
       "      <td>Women</td>\n",
       "      <td>4</td>\n",
       "      <td>10000</td>\n",
       "      <td>0.031746</td>\n",
       "      <td>0.031746</td>\n",
       "    </tr>\n",
       "    <tr>\n",
       "      <th>3</th>\n",
       "      <td>1-Oct-2020</td>\n",
       "      <td>Morning</td>\n",
       "      <td>WA</td>\n",
       "      <td>Seniors</td>\n",
       "      <td>15</td>\n",
       "      <td>37500</td>\n",
       "      <td>0.206349</td>\n",
       "      <td>0.206349</td>\n",
       "    </tr>\n",
       "    <tr>\n",
       "      <th>4</th>\n",
       "      <td>1-Oct-2020</td>\n",
       "      <td>Afternoon</td>\n",
       "      <td>WA</td>\n",
       "      <td>Kids</td>\n",
       "      <td>3</td>\n",
       "      <td>7500</td>\n",
       "      <td>0.015873</td>\n",
       "      <td>0.015873</td>\n",
       "    </tr>\n",
       "    <tr>\n",
       "      <th>...</th>\n",
       "      <td>...</td>\n",
       "      <td>...</td>\n",
       "      <td>...</td>\n",
       "      <td>...</td>\n",
       "      <td>...</td>\n",
       "      <td>...</td>\n",
       "      <td>...</td>\n",
       "      <td>...</td>\n",
       "    </tr>\n",
       "    <tr>\n",
       "      <th>7555</th>\n",
       "      <td>30-Dec-2020</td>\n",
       "      <td>Afternoon</td>\n",
       "      <td>TAS</td>\n",
       "      <td>Seniors</td>\n",
       "      <td>14</td>\n",
       "      <td>35000</td>\n",
       "      <td>0.190476</td>\n",
       "      <td>0.190476</td>\n",
       "    </tr>\n",
       "    <tr>\n",
       "      <th>7556</th>\n",
       "      <td>30-Dec-2020</td>\n",
       "      <td>Evening</td>\n",
       "      <td>TAS</td>\n",
       "      <td>Kids</td>\n",
       "      <td>15</td>\n",
       "      <td>37500</td>\n",
       "      <td>0.206349</td>\n",
       "      <td>0.206349</td>\n",
       "    </tr>\n",
       "    <tr>\n",
       "      <th>7557</th>\n",
       "      <td>30-Dec-2020</td>\n",
       "      <td>Evening</td>\n",
       "      <td>TAS</td>\n",
       "      <td>Men</td>\n",
       "      <td>15</td>\n",
       "      <td>37500</td>\n",
       "      <td>0.206349</td>\n",
       "      <td>0.206349</td>\n",
       "    </tr>\n",
       "    <tr>\n",
       "      <th>7558</th>\n",
       "      <td>30-Dec-2020</td>\n",
       "      <td>Evening</td>\n",
       "      <td>TAS</td>\n",
       "      <td>Women</td>\n",
       "      <td>11</td>\n",
       "      <td>27500</td>\n",
       "      <td>0.142857</td>\n",
       "      <td>0.142857</td>\n",
       "    </tr>\n",
       "    <tr>\n",
       "      <th>7559</th>\n",
       "      <td>30-Dec-2020</td>\n",
       "      <td>Evening</td>\n",
       "      <td>TAS</td>\n",
       "      <td>Seniors</td>\n",
       "      <td>13</td>\n",
       "      <td>32500</td>\n",
       "      <td>0.174603</td>\n",
       "      <td>0.174603</td>\n",
       "    </tr>\n",
       "  </tbody>\n",
       "</table>\n",
       "<p>7560 rows × 8 columns</p>\n",
       "</div>"
      ],
      "text/plain": [
       "             Date        Time State     Group  Unit  Sales  Unit_norm  \\\n",
       "0      1-Oct-2020     Morning    WA      Kids     8  20000   0.095238   \n",
       "1      1-Oct-2020     Morning    WA       Men     8  20000   0.095238   \n",
       "2      1-Oct-2020     Morning    WA     Women     4  10000   0.031746   \n",
       "3      1-Oct-2020     Morning    WA   Seniors    15  37500   0.206349   \n",
       "4      1-Oct-2020   Afternoon    WA      Kids     3   7500   0.015873   \n",
       "...           ...         ...   ...       ...   ...    ...        ...   \n",
       "7555  30-Dec-2020   Afternoon   TAS   Seniors    14  35000   0.190476   \n",
       "7556  30-Dec-2020     Evening   TAS      Kids    15  37500   0.206349   \n",
       "7557  30-Dec-2020     Evening   TAS       Men    15  37500   0.206349   \n",
       "7558  30-Dec-2020     Evening   TAS     Women    11  27500   0.142857   \n",
       "7559  30-Dec-2020     Evening   TAS   Seniors    13  32500   0.174603   \n",
       "\n",
       "      Sales_norm  \n",
       "0       0.095238  \n",
       "1       0.095238  \n",
       "2       0.031746  \n",
       "3       0.206349  \n",
       "4       0.015873  \n",
       "...          ...  \n",
       "7555    0.190476  \n",
       "7556    0.206349  \n",
       "7557    0.206349  \n",
       "7558    0.142857  \n",
       "7559    0.174603  \n",
       "\n",
       "[7560 rows x 8 columns]"
      ]
     },
     "execution_count": 171,
     "metadata": {},
     "output_type": "execute_result"
    }
   ],
   "source": [
    "df"
   ]
  },
  {
   "cell_type": "code",
   "execution_count": 172,
   "id": "e3233ced-3b54-4a3a-9e7f-dc66c8e49229",
   "metadata": {},
   "outputs": [],
   "source": [
    "# 1.b. Based on your knowledge of data analytics, include your recommendations for treating missing and incorrect data (dropping the null values or filling them).\n",
    "# Remove any leading & traiing space in dataframe\n",
    "\n",
    "for i in ['Time', 'State', 'Group']:\n",
    "    df[i] = df[i].str.strip()"
   ]
  },
  {
   "cell_type": "code",
   "execution_count": 173,
   "id": "5fee2f3e-0bcf-4c72-a458-d51f0ab4b13c",
   "metadata": {},
   "outputs": [],
   "source": [
    "# 1.b. Based on your knowledge of data analytics, include your recommendations for treating missing and incorrect data (dropping the null values or filling them).\n",
    "# Remove any leading & traiing space in dataframe\n",
    "df['Time'] = df['Time'].str.strip()\n",
    "df['State'] = df['State'].str.strip()\n",
    "df['Group'] = df['Group'].str.strip()"
   ]
  },
  {
   "cell_type": "code",
   "execution_count": 174,
   "id": "8c2d496d-1c57-4dc2-bbcd-410ecfe0c239",
   "metadata": {},
   "outputs": [
    {
     "name": "stdout",
     "output_type": "stream",
     "text": [
      "              Unit         Sales  Unit_norm  Sales_norm\n",
      "Month                                                  \n",
      "2020-10  18.141270  45353.174603   0.256211    0.256211\n",
      "2020-11  14.394048  35985.119048   0.196731    0.196731\n",
      "2020-12  21.480952  53702.380952   0.309221    0.309221\n"
     ]
    }
   ],
   "source": [
    "df['Date_f'] = pd.to_datetime(df['Date'], format='%d-%b-%Y')\n",
    "# Extract the month and year for grouping\n",
    "df['Month'] = df['Date_f'].dt.to_period('M')  # Extract Month-Year as a Period object\n",
    "# Group by Month and calculate total Sales\n",
    "df_month = df.groupby(['Month']).mean(numeric_only = True)\n",
    "print(df_month)\n",
    "\n"
   ]
  },
  {
   "cell_type": "markdown",
   "id": "08c0e2e3-bd75-4b1e-a0eb-641abe0e6628",
   "metadata": {},
   "source": [
    "#### This shows December have highest sales, followed by October & then November"
   ]
  },
  {
   "cell_type": "code",
   "execution_count": null,
   "id": "70fb0052-7da0-42f9-b320-65b3c262ec27",
   "metadata": {},
   "outputs": [],
   "source": []
  },
  {
   "cell_type": "code",
   "execution_count": 175,
   "id": "ddc7f22a-c929-4259-9d34-2a403cd71c53",
   "metadata": {},
   "outputs": [],
   "source": [
    "groups_df = df.groupby(['Group', 'Time', 'State']).agg({\"Unit\": \"sum\", \"Sales\": \"sum\"}).reset_index()"
   ]
  },
  {
   "cell_type": "code",
   "execution_count": 176,
   "id": "964ea8bf-9192-4f67-b0e6-6ef1420e0cd6",
   "metadata": {},
   "outputs": [
    {
     "data": {
      "text/html": [
       "<div>\n",
       "<style scoped>\n",
       "    .dataframe tbody tr th:only-of-type {\n",
       "        vertical-align: middle;\n",
       "    }\n",
       "\n",
       "    .dataframe tbody tr th {\n",
       "        vertical-align: top;\n",
       "    }\n",
       "\n",
       "    .dataframe thead th {\n",
       "        text-align: right;\n",
       "    }\n",
       "</style>\n",
       "<table border=\"1\" class=\"dataframe\">\n",
       "  <thead>\n",
       "    <tr style=\"text-align: right;\">\n",
       "      <th></th>\n",
       "      <th>Group</th>\n",
       "      <th>Time</th>\n",
       "      <th>State</th>\n",
       "      <th>Unit</th>\n",
       "      <th>Sales</th>\n",
       "    </tr>\n",
       "  </thead>\n",
       "  <tbody>\n",
       "    <tr>\n",
       "      <th>0</th>\n",
       "      <td>Kids</td>\n",
       "      <td>Afternoon</td>\n",
       "      <td>NSW</td>\n",
       "      <td>2475</td>\n",
       "      <td>6187500</td>\n",
       "    </tr>\n",
       "    <tr>\n",
       "      <th>1</th>\n",
       "      <td>Kids</td>\n",
       "      <td>Afternoon</td>\n",
       "      <td>NT</td>\n",
       "      <td>752</td>\n",
       "      <td>1880000</td>\n",
       "    </tr>\n",
       "    <tr>\n",
       "      <th>2</th>\n",
       "      <td>Kids</td>\n",
       "      <td>Afternoon</td>\n",
       "      <td>QLD</td>\n",
       "      <td>1144</td>\n",
       "      <td>2860000</td>\n",
       "    </tr>\n",
       "    <tr>\n",
       "      <th>3</th>\n",
       "      <td>Kids</td>\n",
       "      <td>Afternoon</td>\n",
       "      <td>SA</td>\n",
       "      <td>1988</td>\n",
       "      <td>4970000</td>\n",
       "    </tr>\n",
       "    <tr>\n",
       "      <th>4</th>\n",
       "      <td>Kids</td>\n",
       "      <td>Afternoon</td>\n",
       "      <td>TAS</td>\n",
       "      <td>749</td>\n",
       "      <td>1872500</td>\n",
       "    </tr>\n",
       "    <tr>\n",
       "      <th>5</th>\n",
       "      <td>Kids</td>\n",
       "      <td>Afternoon</td>\n",
       "      <td>VIC</td>\n",
       "      <td>3515</td>\n",
       "      <td>8787500</td>\n",
       "    </tr>\n",
       "    <tr>\n",
       "      <th>6</th>\n",
       "      <td>Kids</td>\n",
       "      <td>Afternoon</td>\n",
       "      <td>WA</td>\n",
       "      <td>778</td>\n",
       "      <td>1945000</td>\n",
       "    </tr>\n",
       "    <tr>\n",
       "      <th>7</th>\n",
       "      <td>Kids</td>\n",
       "      <td>Evening</td>\n",
       "      <td>NSW</td>\n",
       "      <td>2453</td>\n",
       "      <td>6132500</td>\n",
       "    </tr>\n",
       "    <tr>\n",
       "      <th>8</th>\n",
       "      <td>Kids</td>\n",
       "      <td>Evening</td>\n",
       "      <td>NT</td>\n",
       "      <td>789</td>\n",
       "      <td>1972500</td>\n",
       "    </tr>\n",
       "    <tr>\n",
       "      <th>9</th>\n",
       "      <td>Kids</td>\n",
       "      <td>Evening</td>\n",
       "      <td>QLD</td>\n",
       "      <td>1086</td>\n",
       "      <td>2715000</td>\n",
       "    </tr>\n",
       "    <tr>\n",
       "      <th>10</th>\n",
       "      <td>Kids</td>\n",
       "      <td>Evening</td>\n",
       "      <td>SA</td>\n",
       "      <td>1919</td>\n",
       "      <td>4797500</td>\n",
       "    </tr>\n",
       "    <tr>\n",
       "      <th>11</th>\n",
       "      <td>Kids</td>\n",
       "      <td>Evening</td>\n",
       "      <td>TAS</td>\n",
       "      <td>790</td>\n",
       "      <td>1975000</td>\n",
       "    </tr>\n",
       "    <tr>\n",
       "      <th>12</th>\n",
       "      <td>Kids</td>\n",
       "      <td>Evening</td>\n",
       "      <td>VIC</td>\n",
       "      <td>3449</td>\n",
       "      <td>8622500</td>\n",
       "    </tr>\n",
       "    <tr>\n",
       "      <th>13</th>\n",
       "      <td>Kids</td>\n",
       "      <td>Evening</td>\n",
       "      <td>WA</td>\n",
       "      <td>735</td>\n",
       "      <td>1837500</td>\n",
       "    </tr>\n",
       "    <tr>\n",
       "      <th>14</th>\n",
       "      <td>Kids</td>\n",
       "      <td>Morning</td>\n",
       "      <td>NSW</td>\n",
       "      <td>2507</td>\n",
       "      <td>6267500</td>\n",
       "    </tr>\n",
       "    <tr>\n",
       "      <th>15</th>\n",
       "      <td>Kids</td>\n",
       "      <td>Morning</td>\n",
       "      <td>NT</td>\n",
       "      <td>739</td>\n",
       "      <td>1847500</td>\n",
       "    </tr>\n",
       "    <tr>\n",
       "      <th>16</th>\n",
       "      <td>Kids</td>\n",
       "      <td>Morning</td>\n",
       "      <td>QLD</td>\n",
       "      <td>1174</td>\n",
       "      <td>2935000</td>\n",
       "    </tr>\n",
       "    <tr>\n",
       "      <th>17</th>\n",
       "      <td>Kids</td>\n",
       "      <td>Morning</td>\n",
       "      <td>SA</td>\n",
       "      <td>1899</td>\n",
       "      <td>4747500</td>\n",
       "    </tr>\n",
       "    <tr>\n",
       "      <th>18</th>\n",
       "      <td>Kids</td>\n",
       "      <td>Morning</td>\n",
       "      <td>TAS</td>\n",
       "      <td>771</td>\n",
       "      <td>1927500</td>\n",
       "    </tr>\n",
       "    <tr>\n",
       "      <th>19</th>\n",
       "      <td>Kids</td>\n",
       "      <td>Morning</td>\n",
       "      <td>VIC</td>\n",
       "      <td>3580</td>\n",
       "      <td>8950000</td>\n",
       "    </tr>\n",
       "    <tr>\n",
       "      <th>20</th>\n",
       "      <td>Kids</td>\n",
       "      <td>Morning</td>\n",
       "      <td>WA</td>\n",
       "      <td>737</td>\n",
       "      <td>1842500</td>\n",
       "    </tr>\n",
       "  </tbody>\n",
       "</table>\n",
       "</div>"
      ],
      "text/plain": [
       "   Group       Time State  Unit    Sales\n",
       "0   Kids  Afternoon   NSW  2475  6187500\n",
       "1   Kids  Afternoon    NT   752  1880000\n",
       "2   Kids  Afternoon   QLD  1144  2860000\n",
       "3   Kids  Afternoon    SA  1988  4970000\n",
       "4   Kids  Afternoon   TAS   749  1872500\n",
       "5   Kids  Afternoon   VIC  3515  8787500\n",
       "6   Kids  Afternoon    WA   778  1945000\n",
       "7   Kids    Evening   NSW  2453  6132500\n",
       "8   Kids    Evening    NT   789  1972500\n",
       "9   Kids    Evening   QLD  1086  2715000\n",
       "10  Kids    Evening    SA  1919  4797500\n",
       "11  Kids    Evening   TAS   790  1975000\n",
       "12  Kids    Evening   VIC  3449  8622500\n",
       "13  Kids    Evening    WA   735  1837500\n",
       "14  Kids    Morning   NSW  2507  6267500\n",
       "15  Kids    Morning    NT   739  1847500\n",
       "16  Kids    Morning   QLD  1174  2935000\n",
       "17  Kids    Morning    SA  1899  4747500\n",
       "18  Kids    Morning   TAS   771  1927500\n",
       "19  Kids    Morning   VIC  3580  8950000\n",
       "20  Kids    Morning    WA   737  1842500"
      ]
     },
     "execution_count": 176,
     "metadata": {},
     "output_type": "execute_result"
    }
   ],
   "source": [
    "groups_df[groups_df['Group'] == 'Kids']"
   ]
  },
  {
   "cell_type": "markdown",
   "id": "190d7d7b-56bf-4677-bbdb-ff7aa5b05912",
   "metadata": {},
   "source": [
    "#### 1.d: Share your insights regarding the application of the GroupBy() function for either data chunking or merging, and offer a recommendation based on your analysis.\n"
   ]
  },
  {
   "cell_type": "code",
   "execution_count": 177,
   "id": "f744ed7b-c317-4972-968f-d6d7b867abb1",
   "metadata": {},
   "outputs": [
    {
     "data": {
      "image/png": "[encoded data removed]",
      "text/plain": [
       "<Figure size 1000x600 with 1 Axes>"
      ]
     },
     "metadata": {},
     "output_type": "display_data"
    }
   ],
   "source": [
    "\n",
    "# Sales by State\n",
    "plt.figure(figsize=(10, 6))\n",
    "sns.barplot(data=df, x='State', y='Sales')\n",
    "plt.title('Sales by State')\n",
    "plt.xlabel('State')\n",
    "plt.ylabel('Sales')\n",
    "plt.xticks(rotation=45)\n",
    "plt.tight_layout()\n",
    "plt.show()\n",
    "\n"
   ]
  },
  {
   "cell_type": "markdown",
   "id": "2b1bdb84-f4c6-4351-8afc-0ff0067bf2d7",
   "metadata": {},
   "source": [
    "#### THis shows that VIC state has good sales as compared to WA, NT and TAS state. \n",
    "#### SUggestive measures: \n",
    "####\n",
    "#### > We can start promotional offers \n",
    "#### > We can Run targeted promotions, focus on inventory alignment, and adjust product offerings based on sales patterns\n",
    "#### > We can increase Marketing and Advertisment efforts in states with lower sales\n",
    "#### > We can have additional member only discounts & sending regular email promotions et al."
   ]
  },
  {
   "cell_type": "code",
   "execution_count": null,
   "id": "8a5b0ce4-d53f-4e65-904e-7b471aa728b0",
   "metadata": {},
   "outputs": [],
   "source": []
  },
  {
   "cell_type": "markdown",
   "id": "b9b68f55-9dc7-4367-a175-e98d6607fc89",
   "metadata": {},
   "source": [
    "## Question 2"
   ]
  },
  {
   "cell_type": "markdown",
   "id": "edd4a8fd-e90a-4d5b-916c-42b063d4f59e",
   "metadata": {},
   "source": [
    "#### Question 2.a. Perform descriptive statistical analysis on the data in the Sales and Unit columns. Utilize techniques such as mean, median, mode, and standard deviation for this analysis."
   ]
  },
  {
   "cell_type": "code",
   "execution_count": 178,
   "id": "f70a6aae-7c3e-4b9a-b1d4-b0dc945d333c",
   "metadata": {},
   "outputs": [
    {
     "data": {
      "text/html": [
       "<div>\n",
       "<style scoped>\n",
       "    .dataframe tbody tr th:only-of-type {\n",
       "        vertical-align: middle;\n",
       "    }\n",
       "\n",
       "    .dataframe tbody tr th {\n",
       "        vertical-align: top;\n",
       "    }\n",
       "\n",
       "    .dataframe thead th {\n",
       "        text-align: right;\n",
       "    }\n",
       "</style>\n",
       "<table border=\"1\" class=\"dataframe\">\n",
       "  <thead>\n",
       "    <tr style=\"text-align: right;\">\n",
       "      <th></th>\n",
       "      <th>Unit</th>\n",
       "      <th>Sales</th>\n",
       "      <th>Unit_norm</th>\n",
       "      <th>Sales_norm</th>\n",
       "      <th>Date_f</th>\n",
       "    </tr>\n",
       "  </thead>\n",
       "  <tbody>\n",
       "    <tr>\n",
       "      <th>count</th>\n",
       "      <td>7560.000000</td>\n",
       "      <td>7560.000000</td>\n",
       "      <td>7560.000000</td>\n",
       "      <td>7560.000000</td>\n",
       "      <td>7560</td>\n",
       "    </tr>\n",
       "    <tr>\n",
       "      <th>mean</th>\n",
       "      <td>18.005423</td>\n",
       "      <td>45013.558201</td>\n",
       "      <td>0.254054</td>\n",
       "      <td>0.254054</td>\n",
       "      <td>2020-11-15 04:00:00.000000256</td>\n",
       "    </tr>\n",
       "    <tr>\n",
       "      <th>min</th>\n",
       "      <td>2.000000</td>\n",
       "      <td>5000.000000</td>\n",
       "      <td>0.000000</td>\n",
       "      <td>0.000000</td>\n",
       "      <td>2020-10-01 00:00:00</td>\n",
       "    </tr>\n",
       "    <tr>\n",
       "      <th>25%</th>\n",
       "      <td>8.000000</td>\n",
       "      <td>20000.000000</td>\n",
       "      <td>0.095238</td>\n",
       "      <td>0.095238</td>\n",
       "      <td>2020-10-23 00:00:00</td>\n",
       "    </tr>\n",
       "    <tr>\n",
       "      <th>50%</th>\n",
       "      <td>14.000000</td>\n",
       "      <td>35000.000000</td>\n",
       "      <td>0.190476</td>\n",
       "      <td>0.190476</td>\n",
       "      <td>2020-11-15 12:00:00</td>\n",
       "    </tr>\n",
       "    <tr>\n",
       "      <th>75%</th>\n",
       "      <td>26.000000</td>\n",
       "      <td>65000.000000</td>\n",
       "      <td>0.380952</td>\n",
       "      <td>0.380952</td>\n",
       "      <td>2020-12-08 00:00:00</td>\n",
       "    </tr>\n",
       "    <tr>\n",
       "      <th>max</th>\n",
       "      <td>65.000000</td>\n",
       "      <td>162500.000000</td>\n",
       "      <td>1.000000</td>\n",
       "      <td>1.000000</td>\n",
       "      <td>2020-12-30 00:00:00</td>\n",
       "    </tr>\n",
       "    <tr>\n",
       "      <th>std</th>\n",
       "      <td>12.901403</td>\n",
       "      <td>32253.506944</td>\n",
       "      <td>0.204784</td>\n",
       "      <td>0.204784</td>\n",
       "      <td>NaN</td>\n",
       "    </tr>\n",
       "  </tbody>\n",
       "</table>\n",
       "</div>"
      ],
      "text/plain": [
       "              Unit          Sales    Unit_norm   Sales_norm  \\\n",
       "count  7560.000000    7560.000000  7560.000000  7560.000000   \n",
       "mean     18.005423   45013.558201     0.254054     0.254054   \n",
       "min       2.000000    5000.000000     0.000000     0.000000   \n",
       "25%       8.000000   20000.000000     0.095238     0.095238   \n",
       "50%      14.000000   35000.000000     0.190476     0.190476   \n",
       "75%      26.000000   65000.000000     0.380952     0.380952   \n",
       "max      65.000000  162500.000000     1.000000     1.000000   \n",
       "std      12.901403   32253.506944     0.204784     0.204784   \n",
       "\n",
       "                              Date_f  \n",
       "count                           7560  \n",
       "mean   2020-11-15 04:00:00.000000256  \n",
       "min              2020-10-01 00:00:00  \n",
       "25%              2020-10-23 00:00:00  \n",
       "50%              2020-11-15 12:00:00  \n",
       "75%              2020-12-08 00:00:00  \n",
       "max              2020-12-30 00:00:00  \n",
       "std                              NaN  "
      ]
     },
     "execution_count": 178,
     "metadata": {},
     "output_type": "execute_result"
    }
   ],
   "source": [
    "df.describe()"
   ]
  },
  {
   "cell_type": "code",
   "execution_count": 179,
   "id": "33a1dd91-52b2-4cdc-b5b9-f8fe5134dedc",
   "metadata": {},
   "outputs": [
    {
     "data": {
      "text/plain": [
       "0    9\n",
       "Name: Unit, dtype: int64"
      ]
     },
     "execution_count": 179,
     "metadata": {},
     "output_type": "execute_result"
    }
   ],
   "source": [
    "df['Unit'].mode()"
   ]
  },
  {
   "cell_type": "code",
   "execution_count": 180,
   "id": "e0056953-7749-4d7c-984e-5bc0102a7022",
   "metadata": {},
   "outputs": [
    {
     "data": {
      "text/plain": [
       "0    22500\n",
       "Name: Sales, dtype: int64"
      ]
     },
     "execution_count": 180,
     "metadata": {},
     "output_type": "execute_result"
    }
   ],
   "source": [
    "df['Sales'].mode()"
   ]
  },
  {
   "cell_type": "markdown",
   "id": "b8b3ab87-ec06-4225-9cd9-ae3786a80b71",
   "metadata": {},
   "source": [
    "#### 2.a : Perform descriptive statistical analysis on the data in the Sales and Unit columns. Utilize techniques such as mean, median, mode, and standard deviation for this analysis.\n"
   ]
  },
  {
   "cell_type": "code",
   "execution_count": 181,
   "id": "f0c092b1-ed66-47c3-ac18-25cbb870fd3a",
   "metadata": {},
   "outputs": [
    {
     "data": {
      "text/html": [
       "<div>\n",
       "<style scoped>\n",
       "    .dataframe tbody tr th:only-of-type {\n",
       "        vertical-align: middle;\n",
       "    }\n",
       "\n",
       "    .dataframe tbody tr th {\n",
       "        vertical-align: top;\n",
       "    }\n",
       "\n",
       "    .dataframe thead tr th {\n",
       "        text-align: left;\n",
       "    }\n",
       "\n",
       "    .dataframe thead tr:last-of-type th {\n",
       "        text-align: right;\n",
       "    }\n",
       "</style>\n",
       "<table border=\"1\" class=\"dataframe\">\n",
       "  <thead>\n",
       "    <tr>\n",
       "      <th></th>\n",
       "      <th></th>\n",
       "      <th></th>\n",
       "      <th colspan=\"3\" halign=\"left\">Sales</th>\n",
       "      <th colspan=\"3\" halign=\"left\">Unit</th>\n",
       "    </tr>\n",
       "    <tr>\n",
       "      <th></th>\n",
       "      <th></th>\n",
       "      <th></th>\n",
       "      <th>mean</th>\n",
       "      <th>median</th>\n",
       "      <th>std</th>\n",
       "      <th>mean</th>\n",
       "      <th>median</th>\n",
       "      <th>std</th>\n",
       "    </tr>\n",
       "    <tr>\n",
       "      <th>Time</th>\n",
       "      <th>State</th>\n",
       "      <th>Group</th>\n",
       "      <th></th>\n",
       "      <th></th>\n",
       "      <th></th>\n",
       "      <th></th>\n",
       "      <th></th>\n",
       "      <th></th>\n",
       "    </tr>\n",
       "  </thead>\n",
       "  <tbody>\n",
       "    <tr>\n",
       "      <th rowspan=\"5\" valign=\"top\">Afternoon</th>\n",
       "      <th rowspan=\"4\" valign=\"top\">NSW</th>\n",
       "      <th>Kids</th>\n",
       "      <td>68750.000000</td>\n",
       "      <td>67500.0</td>\n",
       "      <td>20619.785687</td>\n",
       "      <td>27.500000</td>\n",
       "      <td>27.0</td>\n",
       "      <td>8.247914</td>\n",
       "    </tr>\n",
       "    <tr>\n",
       "      <th>Men</th>\n",
       "      <td>72361.111111</td>\n",
       "      <td>73750.0</td>\n",
       "      <td>18896.380335</td>\n",
       "      <td>28.944444</td>\n",
       "      <td>29.5</td>\n",
       "      <td>7.558552</td>\n",
       "    </tr>\n",
       "    <tr>\n",
       "      <th>Seniors</th>\n",
       "      <td>66500.000000</td>\n",
       "      <td>65000.0</td>\n",
       "      <td>21413.531373</td>\n",
       "      <td>26.600000</td>\n",
       "      <td>26.0</td>\n",
       "      <td>8.565413</td>\n",
       "    </tr>\n",
       "    <tr>\n",
       "      <th>Women</th>\n",
       "      <td>71388.888889</td>\n",
       "      <td>75000.0</td>\n",
       "      <td>20557.917332</td>\n",
       "      <td>28.555556</td>\n",
       "      <td>30.0</td>\n",
       "      <td>8.223167</td>\n",
       "    </tr>\n",
       "    <tr>\n",
       "      <th>NT</th>\n",
       "      <th>Kids</th>\n",
       "      <td>20888.888889</td>\n",
       "      <td>20000.0</td>\n",
       "      <td>8989.000075</td>\n",
       "      <td>8.355556</td>\n",
       "      <td>8.0</td>\n",
       "      <td>3.595600</td>\n",
       "    </tr>\n",
       "    <tr>\n",
       "      <th>...</th>\n",
       "      <th>...</th>\n",
       "      <th>...</th>\n",
       "      <td>...</td>\n",
       "      <td>...</td>\n",
       "      <td>...</td>\n",
       "      <td>...</td>\n",
       "      <td>...</td>\n",
       "      <td>...</td>\n",
       "    </tr>\n",
       "    <tr>\n",
       "      <th rowspan=\"5\" valign=\"top\">Morning</th>\n",
       "      <th>VIC</th>\n",
       "      <th>Women</th>\n",
       "      <td>97750.000000</td>\n",
       "      <td>93750.0</td>\n",
       "      <td>23329.136193</td>\n",
       "      <td>39.100000</td>\n",
       "      <td>37.5</td>\n",
       "      <td>9.331654</td>\n",
       "    </tr>\n",
       "    <tr>\n",
       "      <th rowspan=\"4\" valign=\"top\">WA</th>\n",
       "      <th>Kids</th>\n",
       "      <td>20472.222222</td>\n",
       "      <td>20000.0</td>\n",
       "      <td>9338.322971</td>\n",
       "      <td>8.188889</td>\n",
       "      <td>8.0</td>\n",
       "      <td>3.735329</td>\n",
       "    </tr>\n",
       "    <tr>\n",
       "      <th>Men</th>\n",
       "      <td>22305.555556</td>\n",
       "      <td>22500.0</td>\n",
       "      <td>9378.344181</td>\n",
       "      <td>8.922222</td>\n",
       "      <td>9.0</td>\n",
       "      <td>3.751338</td>\n",
       "    </tr>\n",
       "    <tr>\n",
       "      <th>Seniors</th>\n",
       "      <td>21666.666667</td>\n",
       "      <td>20000.0</td>\n",
       "      <td>9642.485576</td>\n",
       "      <td>8.666667</td>\n",
       "      <td>8.0</td>\n",
       "      <td>3.856994</td>\n",
       "    </tr>\n",
       "    <tr>\n",
       "      <th>Women</th>\n",
       "      <td>19638.888889</td>\n",
       "      <td>17500.0</td>\n",
       "      <td>9252.703151</td>\n",
       "      <td>7.855556</td>\n",
       "      <td>7.0</td>\n",
       "      <td>3.701081</td>\n",
       "    </tr>\n",
       "  </tbody>\n",
       "</table>\n",
       "<p>84 rows × 6 columns</p>\n",
       "</div>"
      ],
      "text/plain": [
       "                                Sales                              Unit  \\\n",
       "                                 mean   median           std       mean   \n",
       "Time      State Group                                                     \n",
       "Afternoon NSW   Kids     68750.000000  67500.0  20619.785687  27.500000   \n",
       "                Men      72361.111111  73750.0  18896.380335  28.944444   \n",
       "                Seniors  66500.000000  65000.0  21413.531373  26.600000   \n",
       "                Women    71388.888889  75000.0  20557.917332  28.555556   \n",
       "          NT    Kids     20888.888889  20000.0   8989.000075   8.355556   \n",
       "...                               ...      ...           ...        ...   \n",
       "Morning   VIC   Women    97750.000000  93750.0  23329.136193  39.100000   \n",
       "          WA    Kids     20472.222222  20000.0   9338.322971   8.188889   \n",
       "                Men      22305.555556  22500.0   9378.344181   8.922222   \n",
       "                Seniors  21666.666667  20000.0   9642.485576   8.666667   \n",
       "                Women    19638.888889  17500.0   9252.703151   7.855556   \n",
       "\n",
       "                                          \n",
       "                        median       std  \n",
       "Time      State Group                     \n",
       "Afternoon NSW   Kids      27.0  8.247914  \n",
       "                Men       29.5  7.558552  \n",
       "                Seniors   26.0  8.565413  \n",
       "                Women     30.0  8.223167  \n",
       "          NT    Kids       8.0  3.595600  \n",
       "...                        ...       ...  \n",
       "Morning   VIC   Women     37.5  9.331654  \n",
       "          WA    Kids       8.0  3.735329  \n",
       "                Men        9.0  3.751338  \n",
       "                Seniors    8.0  3.856994  \n",
       "                Women      7.0  3.701081  \n",
       "\n",
       "[84 rows x 6 columns]"
      ]
     },
     "execution_count": 181,
     "metadata": {},
     "output_type": "execute_result"
    }
   ],
   "source": [
    "\n",
    "analysis_df = df.groupby(['Time', 'State', 'Group']).agg({'Sales' : ['mean','median','std'] ,\n",
    "      'Unit' : ['mean','median','std']})\n",
    "analysis_df\n"
   ]
  },
  {
   "cell_type": "markdown",
   "id": "ed4ab603-812b-4775-9ec7-187b0994df19",
   "metadata": {},
   "source": [
    "\n",
    "#### Sales: Will provide an understanding of the average sales amount, the spread of sales values (through standard deviation).\n",
    "#### Unit: Will give insights into how many units are typically sold (mean), how consistent the number of units sold is (standard deviation)."
   ]
  },
  {
   "cell_type": "code",
   "execution_count": 182,
   "id": "c6f029c4-c784-4444-b3e0-cd852b23d707",
   "metadata": {},
   "outputs": [
    {
     "data": {
      "text/plain": [
       "Time       State  Group  \n",
       "Afternoon  NSW    Kids       17\n",
       "                  Men        25\n",
       "                  Seniors    17\n",
       "                  Women      33\n",
       "           NT     Kids        5\n",
       "                             ..\n",
       "Morning    VIC    Women      37\n",
       "           WA     Kids        6\n",
       "                  Men         6\n",
       "                  Seniors     9\n",
       "                  Women       6\n",
       "Name: Unit, Length: 84, dtype: int64"
      ]
     },
     "execution_count": 182,
     "metadata": {},
     "output_type": "execute_result"
    }
   ],
   "source": [
    "# Unit: The most common sales figure (mode)\n",
    "# Group by 'Time', 'State', 'Group' and calculate the mode for each group\n",
    "mode_unit = df.groupby(['Time', 'State', 'Group'])['Unit'].apply(lambda x: x.mode().iloc[0])\n",
    "mode_unit"
   ]
  },
  {
   "cell_type": "code",
   "execution_count": 183,
   "id": "7aedb7f4-36a4-4373-b600-780c9f209024",
   "metadata": {},
   "outputs": [
    {
     "data": {
      "text/plain": [
       "Time       State  Group  \n",
       "Afternoon  NSW    Kids       42500\n",
       "                  Men        62500\n",
       "                  Seniors    42500\n",
       "                  Women      82500\n",
       "           NT     Kids       12500\n",
       "                             ...  \n",
       "Morning    VIC    Women      92500\n",
       "           WA     Kids       15000\n",
       "                  Men        15000\n",
       "                  Seniors    22500\n",
       "                  Women      15000\n",
       "Name: Sales, Length: 84, dtype: int64"
      ]
     },
     "execution_count": 183,
     "metadata": {},
     "output_type": "execute_result"
    }
   ],
   "source": [
    "# Sales: Which unit count is most frequent (mode)\n",
    "# Group by 'Time', 'State', 'Group' and calculate the mode for each group\n",
    "mode_sales = df.groupby(['Time', 'State', 'Group'])['Sales'].apply(lambda x: x.mode().iloc[0])\n",
    "mode_sales"
   ]
  },
  {
   "cell_type": "markdown",
   "id": "a3a80534-3fca-4e3c-b454-afc109dcfb29",
   "metadata": {},
   "source": [
    "#### 2.b:  Identify the group with the highest sales and the group with the lowest sales based on the data provided\n"
   ]
  },
  {
   "cell_type": "code",
   "execution_count": 184,
   "id": "9c4593e5-6b3f-44dc-95ec-27bdc2b3b870",
   "metadata": {},
   "outputs": [],
   "source": [
    "\n",
    "# Group by 'Group' and calculate the total sales for each group\n",
    "group_sales = df.groupby('Group')['Sales'].sum()\n",
    "\n",
    "# Find the group with the highest and lowest sales\n",
    "highest_sales_group = group_sales.idxmax()\n",
    "highest_sales_value = group_sales.max()\n",
    "\n",
    "lowest_sales_group = group_sales.idxmin()\n",
    "lowest_sales_value = group_sales.min()"
   ]
  },
  {
   "cell_type": "code",
   "execution_count": 185,
   "id": "6c7c7ec0-b768-4376-9860-138a71c4e079",
   "metadata": {},
   "outputs": [
    {
     "name": "stdout",
     "output_type": "stream",
     "text": [
      "Group with highest sales: Men with Sales: 85750000\n",
      "Group with lowest sales: Seniors with Sales: 84037500\n"
     ]
    }
   ],
   "source": [
    "# Display the result\n",
    "print(f\"Group with highest sales: {highest_sales_group} with Sales: {highest_sales_value}\")\n",
    "print(f\"Group with lowest sales: {lowest_sales_group} with Sales: {lowest_sales_value}\")"
   ]
  },
  {
   "cell_type": "code",
   "execution_count": null,
   "id": "cd565ee8-57ee-4a51-8d1b-088b44f57b72",
   "metadata": {},
   "outputs": [],
   "source": []
  },
  {
   "cell_type": "code",
   "execution_count": 186,
   "id": "a3b56093-af30-42cd-8912-25c7d4402b2e",
   "metadata": {},
   "outputs": [
    {
     "name": "stdout",
     "output_type": "stream",
     "text": [
      "      Highest_Sales_Group  Highest_Sales_Value Lowest_Sales_Group  \\\n",
      "State                                                               \n",
      "NSW          (NSW, Women)             19172500     (NSW, Seniors)   \n",
      "NT              (NT, Men)              5762500      (NT, Seniors)   \n",
      "QLD           (QLD, Kids)              8510000     (QLD, Seniors)   \n",
      "SA            (SA, Women)             14970000         (SA, Kids)   \n",
      "TAS           (TAS, Kids)              5775000       (TAS, Women)   \n",
      "VIC          (VIC, Women)             26482500     (VIC, Seniors)   \n",
      "WA              (WA, Men)              5752500        (WA, Women)   \n",
      "\n",
      "       Lowest_Sales_Value  \n",
      "State                      \n",
      "NSW              18187500  \n",
      "NT                5465000  \n",
      "QLD               8190000  \n",
      "SA               14515000  \n",
      "TAS               5577500  \n",
      "VIC              26315000  \n",
      "WA                5262500  \n"
     ]
    }
   ],
   "source": [
    "# Group by 'State' and 'Group' and calculate the total sales for each group within each state\n",
    "state_group_sales = df.groupby(['State', 'Group'])['Sales'].sum()\n",
    "\n",
    "# For each state, find the group with the highest and lowest sales\n",
    "highest_sales = state_group_sales.groupby('State').idxmax()\n",
    "highest_sales_values = state_group_sales.groupby('State').max()\n",
    "\n",
    "lowest_sales = state_group_sales.groupby('State').idxmin()\n",
    "lowest_sales_values = state_group_sales.groupby('State').min()\n",
    "\n",
    "# Combine results into a DataFrame\n",
    "result = pd.DataFrame({\n",
    "    'Highest_Sales_Group': highest_sales,\n",
    "    'Highest_Sales_Value': highest_sales_values,\n",
    "    'Lowest_Sales_Group': lowest_sales,\n",
    "    'Lowest_Sales_Value': lowest_sales_values\n",
    "})\n",
    "\n",
    "# Display the result\n",
    "print(result)"
   ]
  },
  {
   "cell_type": "markdown",
   "id": "44b58877-3c40-48c4-a856-26e26471a5c9",
   "metadata": {},
   "source": [
    "### 2.d: Generate weekly, monthly, and quarterly reports to document and present the results of the analysis conducted.\n",
    "### (Use suitable libraries such as NumPy, Pandas, and SciPy for performing the analysis.)"
   ]
  },
  {
   "cell_type": "code",
   "execution_count": 187,
   "id": "a2a26e7c-0b08-4d71-884d-bba87aa64163",
   "metadata": {},
   "outputs": [
    {
     "name": "stdout",
     "output_type": "stream",
     "text": [
      "Weekly Report:\n",
      "Date_re\n",
      "2020-10-04    15045000\n",
      "2020-10-11    27002500\n",
      "2020-10-18    26640000\n",
      "2020-10-25    26815000\n",
      "2020-11-01    21807500\n",
      "2020-11-08    20865000\n",
      "2020-11-15    21172500\n",
      "2020-11-22    21112500\n",
      "2020-11-29    21477500\n",
      "2020-12-06    29622500\n",
      "2020-12-13    31525000\n",
      "2020-12-20    31655000\n",
      "2020-12-27    31770000\n",
      "2021-01-03    13792500\n",
      "Freq: W-SUN, Name: Sales, dtype: int64\n",
      "\n",
      "Monthly Report:\n",
      "Date_re\n",
      "2020-10-31    114290000\n",
      "2020-11-30     90682500\n",
      "2020-12-31    135330000\n",
      "Freq: ME, Name: Sales, dtype: int64\n",
      "\n",
      "Quarterly Report:\n",
      "Date_re\n",
      "2020-12-31    340302500\n",
      "Freq: QE-DEC, Name: Sales, dtype: int64\n"
     ]
    }
   ],
   "source": [
    "df['Date_re'] = pd.to_datetime(df['Date'], format='%d-%b-%Y')\n",
    "\n",
    "# Set 'Time' as index for resampling\n",
    "df.set_index('Date_re', inplace=True)\n",
    "\n",
    "\n",
    "weekly_report = df.resample('W')['Sales'].sum()\n",
    "monthly_report = df.resample('ME')['Sales'].sum()\n",
    "quarterly_report = df.resample('QE')['Sales'].sum()\n",
    "\n",
    "# Display the results for each time period\n",
    "print(\"Weekly Report:\")\n",
    "print(weekly_report)\n",
    "\n",
    "print(\"\\nMonthly Report:\")\n",
    "print(monthly_report)\n",
    "\n",
    "print(\"\\nQuarterly Report:\")\n",
    "print(quarterly_report)"
   ]
  },
  {
   "cell_type": "code",
   "execution_count": null,
   "id": "5fd215a0-87b1-48d2-ae52-4ba6a86385cd",
   "metadata": {},
   "outputs": [],
   "source": []
  },
  {
   "cell_type": "markdown",
   "id": "eb361151-2bca-4bd0-b297-bea689be537c",
   "metadata": {},
   "source": [
    "### Question 3"
   ]
  },
  {
   "cell_type": "markdown",
   "id": "95ee9bf1-461d-466c-b57e-c26950b95de4",
   "metadata": {},
   "source": [
    "##### 3.a.1 Use suitable data visualization libraries to construct a dashboard for the head of sales and marketing. The dashboard should encompass key parameters: \n",
    "##### > State-wise sales analysis for different demographic groups (kids, women, men, and seniors)."
   ]
  },
  {
   "cell_type": "code",
   "execution_count": 188,
   "id": "787b1d93-95df-4915-949f-c490627c0a62",
   "metadata": {},
   "outputs": [],
   "source": [
    "# Group by 'State' and 'Group' and sum the 'Sales'\n",
    "state_sales = df.groupby(['State', 'Group'])['Sales'].sum().reset_index()\n",
    "\n",
    "# Pivot the data to make each 'Group' a separate column\n",
    "pivot_df = state_sales.pivot_table(index='State', columns='Group', values='Sales', aggfunc='sum').reset_index()"
   ]
  },
  {
   "cell_type": "code",
   "execution_count": 189,
   "id": "099694e7-594f-48d8-8dd9-861c3d8addbb",
   "metadata": {},
   "outputs": [
    {
     "data": {
      "text/html": [
       "<div>\n",
       "<style scoped>\n",
       "    .dataframe tbody tr th:only-of-type {\n",
       "        vertical-align: middle;\n",
       "    }\n",
       "\n",
       "    .dataframe tbody tr th {\n",
       "        vertical-align: top;\n",
       "    }\n",
       "\n",
       "    .dataframe thead th {\n",
       "        text-align: right;\n",
       "    }\n",
       "</style>\n",
       "<table border=\"1\" class=\"dataframe\">\n",
       "  <thead>\n",
       "    <tr style=\"text-align: right;\">\n",
       "      <th>Group</th>\n",
       "      <th>State</th>\n",
       "      <th>Kids</th>\n",
       "      <th>Men</th>\n",
       "      <th>Seniors</th>\n",
       "      <th>Women</th>\n",
       "    </tr>\n",
       "  </thead>\n",
       "  <tbody>\n",
       "    <tr>\n",
       "      <th>0</th>\n",
       "      <td>NSW</td>\n",
       "      <td>18587500</td>\n",
       "      <td>19022500</td>\n",
       "      <td>18187500</td>\n",
       "      <td>19172500</td>\n",
       "    </tr>\n",
       "    <tr>\n",
       "      <th>1</th>\n",
       "      <td>NT</td>\n",
       "      <td>5700000</td>\n",
       "      <td>5762500</td>\n",
       "      <td>5465000</td>\n",
       "      <td>5652500</td>\n",
       "    </tr>\n",
       "    <tr>\n",
       "      <th>2</th>\n",
       "      <td>QLD</td>\n",
       "      <td>8510000</td>\n",
       "      <td>8392500</td>\n",
       "      <td>8190000</td>\n",
       "      <td>8325000</td>\n",
       "    </tr>\n",
       "    <tr>\n",
       "      <th>3</th>\n",
       "      <td>SA</td>\n",
       "      <td>14515000</td>\n",
       "      <td>14655000</td>\n",
       "      <td>14717500</td>\n",
       "      <td>14970000</td>\n",
       "    </tr>\n",
       "    <tr>\n",
       "      <th>4</th>\n",
       "      <td>TAS</td>\n",
       "      <td>5775000</td>\n",
       "      <td>5757500</td>\n",
       "      <td>5650000</td>\n",
       "      <td>5577500</td>\n",
       "    </tr>\n",
       "    <tr>\n",
       "      <th>5</th>\n",
       "      <td>VIC</td>\n",
       "      <td>26360000</td>\n",
       "      <td>26407500</td>\n",
       "      <td>26315000</td>\n",
       "      <td>26482500</td>\n",
       "    </tr>\n",
       "    <tr>\n",
       "      <th>6</th>\n",
       "      <td>WA</td>\n",
       "      <td>5625000</td>\n",
       "      <td>5752500</td>\n",
       "      <td>5512500</td>\n",
       "      <td>5262500</td>\n",
       "    </tr>\n",
       "  </tbody>\n",
       "</table>\n",
       "</div>"
      ],
      "text/plain": [
       "Group State      Kids       Men   Seniors     Women\n",
       "0       NSW  18587500  19022500  18187500  19172500\n",
       "1        NT   5700000   5762500   5465000   5652500\n",
       "2       QLD   8510000   8392500   8190000   8325000\n",
       "3        SA  14515000  14655000  14717500  14970000\n",
       "4       TAS   5775000   5757500   5650000   5577500\n",
       "5       VIC  26360000  26407500  26315000  26482500\n",
       "6        WA   5625000   5752500   5512500   5262500"
      ]
     },
     "execution_count": 189,
     "metadata": {},
     "output_type": "execute_result"
    }
   ],
   "source": [
    "pivot_df"
   ]
  },
  {
   "cell_type": "code",
   "execution_count": 190,
   "id": "be553131-d99d-4112-8692-6b32bf4be06a",
   "metadata": {},
   "outputs": [
    {
     "data": {
      "image/png": "[encoded data removed]",
      "text/plain": [
       "<Figure size 1200x800 with 1 Axes>"
      ]
     },
     "metadata": {},
     "output_type": "display_data"
    }
   ],
   "source": [
    "# Plotting the stacked bar chart\n",
    "pivot_df.set_index('State').plot(kind='bar', stacked=True, figsize=(12, 8))\n",
    "\n",
    "# Adding labels and title\n",
    "plt.title('State-wise Sales Analysis for Different Demographic Groups')\n",
    "plt.xlabel('State')\n",
    "plt.ylabel('Total Sales ($)')\n",
    "plt.legend(title='Demographic Group')\n",
    "plt.xticks(rotation=45)\n",
    "\n",
    "# Show the plot\n",
    "plt.tight_layout()\n",
    "plt.show()\n",
    "\n"
   ]
  },
  {
   "cell_type": "markdown",
   "id": "b8ca0c0c-8e22-4864-b0b6-dd795b1b4ec1",
   "metadata": {},
   "source": [
    "#### 3.a.2 Group-wise sales analysis (Kids, Women, Men, and Seniors) across various states."
   ]
  },
  {
   "cell_type": "code",
   "execution_count": 191,
   "id": "6a2e60ba-d538-4ea1-9f18-50c226c7c4da",
   "metadata": {},
   "outputs": [
    {
     "name": "stdout",
     "output_type": "stream",
     "text": [
      "      Group State     Sales\n",
      "0      Kids   NSW  18587500\n",
      "1      Kids    NT   5700000\n",
      "2      Kids   QLD   8510000\n",
      "3      Kids    SA  14515000\n",
      "4      Kids   TAS   5775000\n",
      "5      Kids   VIC  26360000\n",
      "6      Kids    WA   5625000\n",
      "7       Men   NSW  19022500\n",
      "8       Men    NT   5762500\n",
      "9       Men   QLD   8392500\n",
      "10      Men    SA  14655000\n",
      "11      Men   TAS   5757500\n",
      "12      Men   VIC  26407500\n",
      "13      Men    WA   5752500\n",
      "14  Seniors   NSW  18187500\n",
      "15  Seniors    NT   5465000\n",
      "16  Seniors   QLD   8190000\n",
      "17  Seniors    SA  14717500\n",
      "18  Seniors   TAS   5650000\n",
      "19  Seniors   VIC  26315000\n",
      "20  Seniors    WA   5512500\n",
      "21    Women   NSW  19172500\n",
      "22    Women    NT   5652500\n",
      "23    Women   QLD   8325000\n",
      "24    Women    SA  14970000\n",
      "25    Women   TAS   5577500\n",
      "26    Women   VIC  26482500\n",
      "27    Women    WA   5262500\n"
     ]
    }
   ],
   "source": [
    "\n",
    "# Group by 'Group' and 'State', then sum the 'Sales'\n",
    "group_sales = df.groupby(['Group', 'State'])['Sales'].sum().reset_index()\n",
    "\n",
    "# Verify the grouped data\n",
    "print(group_sales)\n",
    "\n"
   ]
  },
  {
   "cell_type": "code",
   "execution_count": 192,
   "id": "cb2a5dca-bb30-4315-a075-463f2c8e7b1d",
   "metadata": {},
   "outputs": [
    {
     "data": {
      "image/png": "[encoded data removed]",
      "text/plain": [
       "<Figure size 1200x800 with 1 Axes>"
      ]
     },
     "metadata": {},
     "output_type": "display_data"
    }
   ],
   "source": [
    "# Plotting the group-wise sales analysis across various states\n",
    "plt.figure(figsize=(12, 8))\n",
    "sns.barplot(x='State', y='Sales', hue='Group', data=group_sales)\n",
    "\n",
    "# Adding labels and title\n",
    "plt.title('Group-wise Sales Analysis Across Various States')\n",
    "plt.xlabel('State')\n",
    "plt.ylabel('Total Sales ($)')\n",
    "plt.legend(title='Demographic Group')\n",
    "\n",
    "# Show the plot\n",
    "plt.tight_layout()\n",
    "plt.show()"
   ]
  },
  {
   "cell_type": "markdown",
   "id": "86cd366b-e0c7-422b-963e-dbf4f63839d3",
   "metadata": {},
   "source": []
  },
  {
   "cell_type": "markdown",
   "id": "cd237e1c-d638-4bc5-a0ac-f91a2e13c2da",
   "metadata": {},
   "source": [
    "#### 3.1.c: Time-of-the-day analysis: Identify peak and off-peak sales periods to facilitate strategic planning for S&M teams. This information aids in designing programs like hyper-personalization and Next Best Offers to enhance sales.\n"
   ]
  },
  {
   "cell_type": "code",
   "execution_count": 193,
   "id": "edde51af-4be5-4e8a-87ea-04186c007535",
   "metadata": {},
   "outputs": [],
   "source": [
    "\n",
    "# Group by 'Time' and sum the 'Sales'\n",
    "time_sales = df.groupby(['Time'])['Sales'].sum().reset_index()\n",
    "\n",
    "# Sort the data by Sales to identify peak and off-peak periods\n",
    "time_sales_sorted = time_sales.sort_values(by='Sales', ascending=False)\n",
    "\n"
   ]
  },
  {
   "cell_type": "code",
   "execution_count": 194,
   "id": "bd4eb726-7056-4493-aac8-ce873ab586bd",
   "metadata": {},
   "outputs": [
    {
     "data": {
      "text/html": [
       "<div>\n",
       "<style scoped>\n",
       "    .dataframe tbody tr th:only-of-type {\n",
       "        vertical-align: middle;\n",
       "    }\n",
       "\n",
       "    .dataframe tbody tr th {\n",
       "        vertical-align: top;\n",
       "    }\n",
       "\n",
       "    .dataframe thead th {\n",
       "        text-align: right;\n",
       "    }\n",
       "</style>\n",
       "<table border=\"1\" class=\"dataframe\">\n",
       "  <thead>\n",
       "    <tr style=\"text-align: right;\">\n",
       "      <th></th>\n",
       "      <th>Time</th>\n",
       "      <th>Sales</th>\n",
       "    </tr>\n",
       "  </thead>\n",
       "  <tbody>\n",
       "    <tr>\n",
       "      <th>2</th>\n",
       "      <td>Morning</td>\n",
       "      <td>114207500</td>\n",
       "    </tr>\n",
       "    <tr>\n",
       "      <th>0</th>\n",
       "      <td>Afternoon</td>\n",
       "      <td>114007500</td>\n",
       "    </tr>\n",
       "    <tr>\n",
       "      <th>1</th>\n",
       "      <td>Evening</td>\n",
       "      <td>112087500</td>\n",
       "    </tr>\n",
       "  </tbody>\n",
       "</table>\n",
       "</div>"
      ],
      "text/plain": [
       "        Time      Sales\n",
       "2    Morning  114207500\n",
       "0  Afternoon  114007500\n",
       "1    Evening  112087500"
      ]
     },
     "execution_count": 194,
     "metadata": {},
     "output_type": "execute_result"
    }
   ],
   "source": [
    "time_sales_sorted"
   ]
  },
  {
   "cell_type": "code",
   "execution_count": null,
   "id": "58f92753-add0-495d-8f39-2fdd1a847048",
   "metadata": {},
   "outputs": [],
   "source": []
  },
  {
   "cell_type": "code",
   "execution_count": 195,
   "id": "9961db85-c9d6-4737-bcdc-017b2c9c3edd",
   "metadata": {},
   "outputs": [
    {
     "data": {
      "image/png": "[encoded data removed]",
      "text/plain": [
       "<Figure size 400x600 with 1 Axes>"
      ]
     },
     "metadata": {},
     "output_type": "display_data"
    },
    {
     "name": "stdout",
     "output_type": "stream",
     "text": [
      "Peak Sales Period: Morning with Sales: $114207500\n",
      "Off-Peak Sales Period: Evening with Sales: $112087500\n"
     ]
    }
   ],
   "source": [
    "# Plotting the Time-of-the-day Sales Analysis\n",
    "plt.figure(figsize=(4, 6))\n",
    "\n",
    "#sns.barplot(x='Time', y='Sales', hue='Group', data=time_sales_sorted)\n",
    "\n",
    "sns.barplot(x='Time', y='Sales', data=time_sales_sorted, hue = 'Time', palette=\"coolwarm\")\n",
    "\n",
    "# Adding labels and title\n",
    "plt.title('Time-of-the-day Sales Analysis')\n",
    "plt.xlabel('Time of Day')\n",
    "plt.ylabel('Total Sales ($)')\n",
    "plt.xticks(rotation=45)\n",
    "\n",
    "# Show the plot\n",
    "plt.tight_layout()\n",
    "plt.show()\n",
    "\n",
    "# Display peak and off-peak times\n",
    "peak_period = time_sales_sorted.iloc[0]\n",
    "off_peak_period = time_sales_sorted.iloc[-1]\n",
    "\n",
    "print(f\"Peak Sales Period: {peak_period['Time']} with Sales: ${peak_period['Sales']}\")\n",
    "print(f\"Off-Peak Sales Period: {off_peak_period['Time']} with Sales: ${off_peak_period['Sales']}\")\n"
   ]
  },
  {
   "cell_type": "code",
   "execution_count": null,
   "id": "619c8ebc-b726-49eb-8f0f-b4e285d12f4b",
   "metadata": {},
   "outputs": [],
   "source": []
  },
  {
   "cell_type": "markdown",
   "id": "8945fa54-258c-40d6-955e-53f7846890f5",
   "metadata": {},
   "source": [
    "#### 3.b. : Ensure the visualization is clear and accessible for effective decision-making by the head of sales and marketing (S&M). The dashboard must contain daily, weekly, monthly, and quarterly charts."
   ]
  },
  {
   "cell_type": "code",
   "execution_count": 196,
   "id": "4d9f187e-420f-4b80-9607-899d6d8efad9",
   "metadata": {},
   "outputs": [],
   "source": [
    "from matplotlib.dates import DateFormatter"
   ]
  },
  {
   "cell_type": "code",
   "execution_count": 197,
   "id": "49c34d95-dfd2-4fda-935b-17b4a2dc4aed",
   "metadata": {},
   "outputs": [],
   "source": [
    "# Convert 'Date' to datetime, specifying the correct format\n",
    "df['Date'] = pd.to_datetime(df['Date'], format='%d-%b-%Y')\n",
    "\n",
    "# Add derived columns\n",
    "df['Week'] = df['Date'].dt.isocalendar().week.astype(int)  # Convert to int\n",
    "df['Month'] = df['Date'].dt.month\n",
    "df['Quarter'] = df['Date'].dt.quarter\n"
   ]
  },
  {
   "cell_type": "code",
   "execution_count": 198,
   "id": "287150a0-2324-443e-af7e-129ca5585f12",
   "metadata": {},
   "outputs": [
    {
     "data": {
      "image/png": "[encoded data removed]",
      "text/plain": [
       "<Figure size 1400x1000 with 4 Axes>"
      ]
     },
     "metadata": {},
     "output_type": "display_data"
    }
   ],
   "source": [
    "# Set up the figure for subplots\n",
    "fig, axs = plt.subplots(2, 2, figsize=(14, 10))\n",
    "\n",
    "# Daily Sales plot\n",
    "sns.barplot(x='Date', y='Sales', data=df, ax=axs[0, 0], palette='coolwarm', hue='Date', legend=False)\n",
    "axs[0, 0].set_title('Daily Sales Analysis')\n",
    "axs[0, 0].set_xlabel('Date')\n",
    "axs[0, 0].set_ylabel('Total Sales')\n",
    "axs[0, 0].tick_params(axis='x', rotation=45)\n",
    "\n",
    "# Weekly Sales plot\n",
    "weekly_sales = df.groupby('Week')['Sales'].sum().reset_index()\n",
    "sns.barplot(x='Week', y='Sales', data=weekly_sales, ax=axs[0, 1], palette='coolwarm', hue='Week', legend=False)\n",
    "axs[0, 1].set_title('Weekly Sales Analysis')\n",
    "axs[0, 1].set_xlabel('Week')\n",
    "axs[0, 1].set_ylabel('Total Sales')\n",
    "\n",
    "# Monthly Sales plot\n",
    "monthly_sales = df.groupby('Month')['Sales'].sum().reset_index()\n",
    "sns.barplot(x='Month', y='Sales', data=monthly_sales, ax=axs[1, 0], palette='coolwarm', hue='Month', legend=False)\n",
    "axs[1, 0].set_title('Monthly Sales Analysis')\n",
    "axs[1, 0].set_xlabel('Month')\n",
    "axs[1, 0].set_ylabel('Total Sales')\n",
    "\n",
    "# Quarterly Sales plot\n",
    "quarterly_sales = df.groupby('Quarter')['Sales'].sum().reset_index()\n",
    "sns.barplot(x='Quarter', y='Sales', data=quarterly_sales, ax=axs[1, 1], palette='coolwarm', hue='Quarter', legend=False)\n",
    "axs[1, 1].set_title('Quarterly Sales Analysis')\n",
    "axs[1, 1].set_xlabel('Quarter')\n",
    "axs[1, 1].set_ylabel('Total Sales')\n",
    "\n",
    "# Adjust layout\n",
    "plt.tight_layout()\n",
    "plt.show()\n"
   ]
  },
  {
   "cell_type": "code",
   "execution_count": null,
   "id": "67610797-a013-41b3-a939-16693de1ca20",
   "metadata": {},
   "outputs": [],
   "source": []
  },
  {
   "cell_type": "markdown",
   "id": "dedef3a3-d489-46dd-8808-a95eb06eb8f8",
   "metadata": {},
   "source": [
    "#### 3.c. : Include your recommendation and indicate why you are choosing the recommended visualization package.\n",
    "#### I Prefer to use Seaborn as it provides good support & custmizations:\n",
    "\n",
    "#### Seaborn provides a high-level interface to create attractive and informative statistical graphics. It integrates seamlessly with pandas DataFrames and handles categorical and continuous data in a simple manner.\n",
    "#### Seaborn allows customization of colors, themes, and other plot settings, ensuring the visuals align with any branding or presentation needs.\n",
    "#### We can built complex Plots which is easy to use"
   ]
  },
  {
   "cell_type": "code",
   "execution_count": null,
   "id": "712d8f42-b69a-41de-941f-deb096965204",
   "metadata": {},
   "outputs": [],
   "source": []
  },
  {
   "cell_type": "markdown",
   "id": "dc1905df-32e3-4e98-aea2-b1e45a4b091c",
   "metadata": {},
   "source": [
    "### Question 4: Report generation"
   ]
  },
  {
   "cell_type": "code",
   "execution_count": 199,
   "id": "0f9a1150-7716-4c0c-9067-7ebbd55e0550",
   "metadata": {},
   "outputs": [
    {
     "data": {
      "text/plain": [
       "<Axes: xlabel='Group', ylabel='Sales'>"
      ]
     },
     "execution_count": 199,
     "metadata": {},
     "output_type": "execute_result"
    },
    {
     "data": {
      "image/png": "[encoded data removed]",
      "text/plain": [
       "<Figure size 640x480 with 1 Axes>"
      ]
     },
     "metadata": {},
     "output_type": "display_data"
    }
   ],
   "source": [
    "sns.boxplot(y = 'Sales', x = 'Group', data = df, palette = 'deep', hue = 'Time', dodge = 'True', legend = 'full')"
   ]
  },
  {
   "cell_type": "code",
   "execution_count": null,
   "id": "56d1d1e6-1066-42d2-b8b8-c44d8f97d1cb",
   "metadata": {},
   "outputs": [],
   "source": []
  },
  {
   "cell_type": "markdown",
   "id": "a320dd26-9385-4a82-8fec-1b890c28f6c0",
   "metadata": {},
   "source": [
    "#### Question 4.c.1: Use suitable graphs, plots, and analysis reports in the report, along with recommendations. Note that various aspects of analysis require different graphs and plots.\n",
    "#### ○ Use a box plot for descriptive statistics."
   ]
  },
  {
   "cell_type": "code",
   "execution_count": 200,
   "id": "dd6144a4-a29a-47d7-b7e9-604d8eef2bdf",
   "metadata": {},
   "outputs": [
    {
     "data": {
      "image/png": "[encoded data removed]",
      "text/plain": [
       "<Figure size 750x500 with 1 Axes>"
      ]
     },
     "metadata": {},
     "output_type": "display_data"
    }
   ],
   "source": [
    "# Distribution plot for Sales\n",
    "sns.displot(df['Sales'], kde=True, color='blue', height=5, aspect=1.5)\n",
    "\n",
    "# Add labels and title\n",
    "plt.title(\"Distribution of Sales\", fontsize=14)\n",
    "plt.xlabel(\"Sales\", fontsize=12)\n",
    "plt.ylabel(\"Frequency\", fontsize=12)\n",
    "\n",
    "# Show the plot\n",
    "plt.tight_layout()\n",
    "plt.show()\n"
   ]
  },
  {
   "cell_type": "markdown",
   "id": "0ec5d5d5-8fdc-4ab7-a500-b5987fc7c0aa",
   "metadata": {},
   "source": [
    "#### Question 4.c.2: Use suitable graphs, plots, and analysis reports in the report, along with recommendations. Note that various aspects of analysis require different graphs and plots.\n",
    "#### ○ Use the Seaborn distribution plot for any other statistical plotting."
   ]
  },
  {
   "cell_type": "code",
   "execution_count": 201,
   "id": "8f967c14-afcb-4027-8417-8596b91e57aa",
   "metadata": {},
   "outputs": [
    {
     "data": {
      "image/png": "[encoded data removed]",
      "text/plain": [
       "<Figure size 750x500 with 1 Axes>"
      ]
     },
     "metadata": {},
     "output_type": "display_data"
    }
   ],
   "source": [
    "# Distribution plot for Unit\n",
    "sns.displot(df['Unit'], kde=True, color='green', bins = 15, height=5, aspect=1.5)\n",
    "\n",
    "# Add labels and title\n",
    "plt.title(\"Distribution of Units\", fontsize=14)\n",
    "plt.xlabel(\"Units\", fontsize=12)\n",
    "plt.ylabel(\"Frequency\", fontsize=12)\n",
    "\n",
    "# Show the plot\n",
    "plt.tight_layout()\n",
    "plt.show()"
   ]
  },
  {
   "cell_type": "code",
   "execution_count": null,
   "id": "8c98cbc2-df97-4fcb-acd2-f03705eca3e7",
   "metadata": {},
   "outputs": [],
   "source": []
  },
  {
   "cell_type": "code",
   "execution_count": null,
   "id": "289b16fa-885b-4c47-bbb1-e23d29e319f4",
   "metadata": {},
   "outputs": [],
   "source": []
  }
 ],
 "metadata": {
  "kernelspec": {
   "display_name": "Python 3 (ipykernel)",
   "language": "python",
   "name": "python3"
  },
  "language_info": {
   "codemirror_mode": {
    "name": "ipython",
    "version": 3
   },
   "file_extension": ".py",
   "mimetype": "text/x-python",
   "name": "python",
   "nbconvert_exporter": "python",
   "pygments_lexer": "ipython3",
   "version": "3.12.1"
  }
 },
 "nbformat": 4,
 "nbformat_minor": 5
}
